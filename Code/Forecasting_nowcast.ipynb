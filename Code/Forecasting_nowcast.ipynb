{
 "cells": [
  {
   "cell_type": "code",
   "execution_count": 55,
   "metadata": {},
   "outputs": [
    {
     "data": {
      "text/markdown": [
       "# Implementation of LSTM for the nowcasting data"
      ],
      "text/plain": [
       "<IPython.core.display.Markdown object>"
      ]
     },
     "metadata": {},
     "output_type": "display_data"
    }
   ],
   "source": [
    "%%markdown\n",
    "# Implementation of LSTM for the nowcasting data"
   ]
  },
  {
   "cell_type": "code",
   "execution_count": 56,
   "metadata": {},
   "outputs": [],
   "source": [
    "import tensorflow as tf\n",
    "import pandas as pd\n",
    "from matplotlib import pyplot\n",
    "from sklearn.preprocessing import MinMaxScaler\n",
    "from keras.models import Sequential\n",
    "from keras.layers import Dense\n",
    "from keras.layers import LSTM\n",
    "from math import sqrt\n",
    "import numpy\n",
    "#from sklearn.model_selection import train_test_split"
   ]
  },
  {
   "cell_type": "code",
   "execution_count": 57,
   "metadata": {},
   "outputs": [],
   "source": [
    "series = pd.read_csv(\"nowacst.csv\")"
   ]
  },
  {
   "cell_type": "code",
   "execution_count": 58,
   "metadata": {},
   "outputs": [
    {
     "data": {
      "text/html": [
       "<div>\n",
       "<style scoped>\n",
       "    .dataframe tbody tr th:only-of-type {\n",
       "        vertical-align: middle;\n",
       "    }\n",
       "\n",
       "    .dataframe tbody tr th {\n",
       "        vertical-align: top;\n",
       "    }\n",
       "\n",
       "    .dataframe thead th {\n",
       "        text-align: right;\n",
       "    }\n",
       "</style>\n",
       "<table border=\"1\" class=\"dataframe\">\n",
       "  <thead>\n",
       "    <tr style=\"text-align: right;\">\n",
       "      <th></th>\n",
       "      <th>0</th>\n",
       "      <th>14</th>\n",
       "    </tr>\n",
       "  </thead>\n",
       "  <tbody>\n",
       "    <tr>\n",
       "      <th>0</th>\n",
       "      <td>1</td>\n",
       "      <td>63</td>\n",
       "    </tr>\n",
       "    <tr>\n",
       "      <th>1</th>\n",
       "      <td>2</td>\n",
       "      <td>6</td>\n",
       "    </tr>\n",
       "    <tr>\n",
       "      <th>2</th>\n",
       "      <td>3</td>\n",
       "      <td>139</td>\n",
       "    </tr>\n",
       "    <tr>\n",
       "      <th>3</th>\n",
       "      <td>4</td>\n",
       "      <td>7</td>\n",
       "    </tr>\n",
       "    <tr>\n",
       "      <th>4</th>\n",
       "      <td>5</td>\n",
       "      <td>29</td>\n",
       "    </tr>\n",
       "  </tbody>\n",
       "</table>\n",
       "</div>"
      ],
      "text/plain": [
       "   0   14\n",
       "0  1   63\n",
       "1  2    6\n",
       "2  3  139\n",
       "3  4    7\n",
       "4  5   29"
      ]
     },
     "execution_count": 58,
     "metadata": {},
     "output_type": "execute_result"
    }
   ],
   "source": [
    "series.head()"
   ]
  },
  {
   "cell_type": "code",
   "execution_count": 59,
   "metadata": {},
   "outputs": [
    {
     "data": {
      "text/plain": [
       "<matplotlib.axes._subplots.AxesSubplot at 0x2877b37abe0>"
      ]
     },
     "execution_count": 59,
     "metadata": {},
     "output_type": "execute_result"
    },
    {
     "data": {
      "image/png": "[encoded data removed]",
      "text/plain": [
       "<matplotlib.figure.Figure at 0x2877b384358>"
      ]
     },
     "metadata": {},
     "output_type": "display_data"
    }
   ],
   "source": [
    "series.plot()"
   ]
  },
  {
   "cell_type": "code",
   "execution_count": 60,
   "metadata": {},
   "outputs": [
    {
     "data": {
      "text/plain": [
       "(629, 2)"
      ]
     },
     "execution_count": 60,
     "metadata": {},
     "output_type": "execute_result"
    }
   ],
   "source": [
    "series.shape"
   ]
  },
  {
   "cell_type": "code",
   "execution_count": 61,
   "metadata": {},
   "outputs": [],
   "source": [
    "X = series.values"
   ]
  },
  {
   "cell_type": "code",
   "execution_count": 62,
   "metadata": {},
   "outputs": [
    {
     "data": {
      "text/plain": [
       "array([[  1,  63],\n",
       "       [  2,   6],\n",
       "       [  3, 139],\n",
       "       ...,\n",
       "       [627,   9],\n",
       "       [628,  20],\n",
       "       [629, 333]], dtype=int64)"
      ]
     },
     "execution_count": 62,
     "metadata": {},
     "output_type": "execute_result"
    }
   ],
   "source": [
    "X"
   ]
  },
  {
   "cell_type": "code",
   "execution_count": null,
   "metadata": {},
   "outputs": [],
   "source": []
  },
  {
   "cell_type": "code",
   "execution_count": 63,
   "metadata": {},
   "outputs": [],
   "source": [
    "#print(train)"
   ]
  },
  {
   "cell_type": "code",
   "execution_count": 64,
   "metadata": {},
   "outputs": [
    {
     "data": {
      "text/markdown": [
       "# Converting data into supervised form\n",
       "\n",
       "For LSTM we need data in a supervised format. So we shift the input series one step forward in time and thus the new series will become output. "
      ],
      "text/plain": [
       "<IPython.core.display.Markdown object>"
      ]
     },
     "metadata": {},
     "output_type": "display_data"
    }
   ],
   "source": [
    "%%markdown\n",
    "# Converting data into supervised form\n",
    "\n",
    "For LSTM we need data in a supervised format. So we shift the input series one step forward in time and thus the new series will become output. "
   ]
  },
  {
   "cell_type": "code",
   "execution_count": 65,
   "metadata": {},
   "outputs": [],
   "source": [
    "def timeseries_to_supervised(data, lag = 1):\n",
    "    df = pd.DataFrame(data)\n",
    "    columns = [df.shift(i) for i in range(1, lag + 1)]\n",
    "    columns.append(df)\n",
    "    df = pd.concat(columns, axis = 1)\n",
    "    df.fillna(0, inplace = True)\n",
    "    return df"
   ]
  },
  {
   "cell_type": "code",
   "execution_count": 66,
   "metadata": {},
   "outputs": [],
   "source": [
    "supervised = timeseries_to_supervised(X, 1)"
   ]
  },
  {
   "cell_type": "code",
   "execution_count": 67,
   "metadata": {},
   "outputs": [
    {
     "data": {
      "text/html": [
       "<div>\n",
       "<style scoped>\n",
       "    .dataframe tbody tr th:only-of-type {\n",
       "        vertical-align: middle;\n",
       "    }\n",
       "\n",
       "    .dataframe tbody tr th {\n",
       "        vertical-align: top;\n",
       "    }\n",
       "\n",
       "    .dataframe thead th {\n",
       "        text-align: right;\n",
       "    }\n",
       "</style>\n",
       "<table border=\"1\" class=\"dataframe\">\n",
       "  <thead>\n",
       "    <tr style=\"text-align: right;\">\n",
       "      <th></th>\n",
       "      <th>0</th>\n",
       "      <th>1</th>\n",
       "      <th>0</th>\n",
       "      <th>1</th>\n",
       "    </tr>\n",
       "  </thead>\n",
       "  <tbody>\n",
       "    <tr>\n",
       "      <th>0</th>\n",
       "      <td>0.0</td>\n",
       "      <td>0.0</td>\n",
       "      <td>1</td>\n",
       "      <td>63</td>\n",
       "    </tr>\n",
       "    <tr>\n",
       "      <th>1</th>\n",
       "      <td>1.0</td>\n",
       "      <td>63.0</td>\n",
       "      <td>2</td>\n",
       "      <td>6</td>\n",
       "    </tr>\n",
       "    <tr>\n",
       "      <th>2</th>\n",
       "      <td>2.0</td>\n",
       "      <td>6.0</td>\n",
       "      <td>3</td>\n",
       "      <td>139</td>\n",
       "    </tr>\n",
       "    <tr>\n",
       "      <th>3</th>\n",
       "      <td>3.0</td>\n",
       "      <td>139.0</td>\n",
       "      <td>4</td>\n",
       "      <td>7</td>\n",
       "    </tr>\n",
       "    <tr>\n",
       "      <th>4</th>\n",
       "      <td>4.0</td>\n",
       "      <td>7.0</td>\n",
       "      <td>5</td>\n",
       "      <td>29</td>\n",
       "    </tr>\n",
       "  </tbody>\n",
       "</table>\n",
       "</div>"
      ],
      "text/plain": [
       "     0      1  0    1\n",
       "0  0.0    0.0  1   63\n",
       "1  1.0   63.0  2    6\n",
       "2  2.0    6.0  3  139\n",
       "3  3.0  139.0  4    7\n",
       "4  4.0    7.0  5   29"
      ]
     },
     "execution_count": 67,
     "metadata": {},
     "output_type": "execute_result"
    }
   ],
   "source": [
    "supervised.head()"
   ]
  },
  {
   "cell_type": "code",
   "execution_count": 68,
   "metadata": {},
   "outputs": [
    {
     "data": {
      "text/markdown": [
       "It is pretty evident from the series plot as well as the general understanding of the earthquakes that the series is stationary. So we can directly proceed without converting it into stationary."
      ],
      "text/plain": [
       "<IPython.core.display.Markdown object>"
      ]
     },
     "metadata": {},
     "output_type": "display_data"
    }
   ],
   "source": [
    "%%markdown\n",
    "It is pretty evident from the series plot as well as the general understanding of the earthquakes that the series is stationary. So we can directly proceed without converting it into stationary."
   ]
  },
  {
   "cell_type": "code",
   "execution_count": 69,
   "metadata": {},
   "outputs": [
    {
     "data": {
      "text/markdown": [
       "# Transform Time Series to Scale"
      ],
      "text/plain": [
       "<IPython.core.display.Markdown object>"
      ]
     },
     "metadata": {},
     "output_type": "display_data"
    }
   ],
   "source": [
    "%%markdown\n",
    "# Transform Time Series to Scale"
   ]
  },
  {
   "cell_type": "code",
   "execution_count": 70,
   "metadata": {},
   "outputs": [
    {
     "data": {
      "text/markdown": [
       "Like other neural networks, LSTMs expect data to be within the scale of the activation function used by the network.\n",
       "\n",
       "The default activation function for LSTMs is the hyperbolic tangent (tanh), which outputs values between -1 and 1. This is the preferred range for the time series data."
      ],
      "text/plain": [
       "<IPython.core.display.Markdown object>"
      ]
     },
     "metadata": {},
     "output_type": "display_data"
    }
   ],
   "source": [
    "%%markdown\n",
    "Like other neural networks, LSTMs expect data to be within the scale of the activation function used by the network.\n",
    "\n",
    "The default activation function for LSTMs is the hyperbolic tangent (tanh), which outputs values between -1 and 1. This is the preferred range for the time series data."
   ]
  },
  {
   "cell_type": "code",
   "execution_count": 71,
   "metadata": {},
   "outputs": [],
   "source": [
    "def scale(train, test):\n",
    "    #fit scaler\n",
    "    scaler = MinMaxScaler(feature_range = (-1, 1))\n",
    "    scaler = scaler.fit(train)\n",
    "    \n",
    "    #transform train\n",
    "    train = train.reshape(train.shape[0], train.shape[1])\n",
    "    train_scaled = scaler.transform(train)\n",
    "    \n",
    "    #transform test\n",
    "    test = test.reshape(test.shape[0], test.shape[1])\n",
    "    test_scaled = scaler.transform(test)\n",
    "    return scaler, train_scaled, test_scaled\n"
   ]
  },
  {
   "cell_type": "code",
   "execution_count": 72,
   "metadata": {},
   "outputs": [],
   "source": [
    "# inverse scaling for forecasted value\n",
    "\n",
    "def invert_scale(scaler, X, value):\n",
    "    new_row = [x for x in X] + [value]\n",
    "    array = array.reshape(1, len(array))\n",
    "    inverted = scaler.inverse_transform(array)\n",
    "    return inverted[0, -1]"
   ]
  },
  {
   "cell_type": "code",
   "execution_count": 73,
   "metadata": {},
   "outputs": [
    {
     "data": {
      "text/markdown": [
       "# Fit an LSTM network to training data"
      ],
      "text/plain": [
       "<IPython.core.display.Markdown object>"
      ]
     },
     "metadata": {},
     "output_type": "display_data"
    }
   ],
   "source": [
    "%%markdown\n",
    "# Fit an LSTM network to training data"
   ]
  },
  {
   "cell_type": "code",
   "execution_count": 74,
   "metadata": {},
   "outputs": [],
   "source": [
    "def fit_lstm(train, batch_size, nb_epoch, neurons):\n",
    "    X, y = train[:, 0:-1], train[:, -1]\n",
    "    X = X.reshape(X.shape[0], 1, X.shape[1])\n",
    "    model = Sequential()\n",
    "    model.add(LSTM(neurons, batch_input_shape = (batch_size, X.shape[1], \n",
    "                                                X.shape[2]), stateful = True))\n",
    "    model.add(Dense(1))\n",
    "    model.compile(loss = 'mean_squared_error', optimizer = 'adam')\n",
    "    for i in range(nb_epoch):\n",
    "        model.fit(X, y, epochs = 1, batch_size = batch_size, \n",
    "                 shuffle = False)\n",
    "        model.reset_states()\n",
    "    return model    "
   ]
  },
  {
   "cell_type": "code",
   "execution_count": 75,
   "metadata": {},
   "outputs": [
    {
     "data": {
      "text/markdown": [
       "# Make a one-step forecast"
      ],
      "text/plain": [
       "<IPython.core.display.Markdown object>"
      ]
     },
     "metadata": {},
     "output_type": "display_data"
    }
   ],
   "source": [
    "%%markdown\n",
    "# Make a one-step forecast"
   ]
  },
  {
   "cell_type": "code",
   "execution_count": 76,
   "metadata": {},
   "outputs": [],
   "source": [
    "def forecast_lstm(model, batch_size, X):\n",
    "    X = X.reshape(1, 1, len(X))\n",
    "    yhat = model.predict(X, batch_size = batch_size)\n",
    "    return yhat[0, 0]"
   ]
  },
  {
   "cell_type": "code",
   "execution_count": 77,
   "metadata": {},
   "outputs": [
    {
     "name": "stderr",
     "output_type": "stream",
     "text": [
      "C:\\Users\\HP\\Anaconda3\\lib\\site-packages\\sklearn\\utils\\validation.py:590: DataConversionWarning: Data with input dtype int64 was converted to float64 by MinMaxScaler.\n",
      "  warnings.warn(msg, DataConversionWarning)\n"
     ]
    }
   ],
   "source": [
    "# Scale the data\n",
    "\n",
    "scaler, train_scaled, test_scaled = scale(train, test)"
   ]
  },
  {
   "cell_type": "code",
   "execution_count": 83,
   "metadata": {},
   "outputs": [],
   "source": [
    "# fit the model\n",
    "\n",
    "lstm_model = fit_lstm(train_scaled, 1, 1000, 1)"
   ]
  },
  {
   "cell_type": "code",
   "execution_count": 84,
   "metadata": {},
   "outputs": [
    {
     "data": {
      "text/plain": [
       "array([[-0.79131377],\n",
       "       [-0.84125626],\n",
       "       [-0.8486285 ],\n",
       "       [-0.8496802 ],\n",
       "       [-0.84982073],\n",
       "       [-0.8498268 ],\n",
       "       [-0.8498125 ],\n",
       "       [-0.8497949 ],\n",
       "       [-0.84977686],\n",
       "       [-0.8497587 ],\n",
       "       [-0.8497405 ],\n",
       "       [-0.84972227],\n",
       "       [-0.8497041 ],\n",
       "       [-0.8496859 ],\n",
       "       [-0.84966767],\n",
       "       [-0.8496495 ],\n",
       "       [-0.8496313 ],\n",
       "       [-0.84961313],\n",
       "       [-0.84959495],\n",
       "       [-0.8495767 ],\n",
       "       [-0.84955853],\n",
       "       [-0.84954035],\n",
       "       [-0.8495221 ],\n",
       "       [-0.84950393],\n",
       "       [-0.84948575],\n",
       "       [-0.8494675 ],\n",
       "       [-0.84944934],\n",
       "       [-0.84943116],\n",
       "       [-0.8494129 ],\n",
       "       [-0.84939474],\n",
       "       [-0.84937656],\n",
       "       [-0.8493583 ],\n",
       "       [-0.84934014],\n",
       "       [-0.84932196],\n",
       "       [-0.8493037 ],\n",
       "       [-0.8492856 ],\n",
       "       [-0.84926736],\n",
       "       [-0.8492492 ],\n",
       "       [-0.849231  ],\n",
       "       [-0.84921277],\n",
       "       [-0.8491946 ],\n",
       "       [-0.8491764 ],\n",
       "       [-0.84915817],\n",
       "       [-0.84914   ],\n",
       "       [-0.8491218 ],\n",
       "       [-0.84910357],\n",
       "       [-0.84908545],\n",
       "       [-0.8490672 ],\n",
       "       [-0.84904903],\n",
       "       [-0.84903085],\n",
       "       [-0.8490126 ],\n",
       "       [-0.84899443],\n",
       "       [-0.84897625],\n",
       "       [-0.848958  ],\n",
       "       [-0.84893984],\n",
       "       [-0.84892166],\n",
       "       [-0.8489034 ],\n",
       "       [-0.84888524],\n",
       "       [-0.84886706],\n",
       "       [-0.8488488 ],\n",
       "       [-0.84883064],\n",
       "       [-0.84881246],\n",
       "       [-0.8487943 ],\n",
       "       [-0.8487761 ],\n",
       "       [-0.84875786],\n",
       "       [-0.8487397 ],\n",
       "       [-0.8487215 ],\n",
       "       [-0.84870327],\n",
       "       [-0.8486851 ],\n",
       "       [-0.8486669 ],\n",
       "       [-0.84864867],\n",
       "       [-0.8486305 ],\n",
       "       [-0.8486123 ],\n",
       "       [-0.84859407],\n",
       "       [-0.8485759 ],\n",
       "       [-0.8485577 ],\n",
       "       [-0.8485395 ],\n",
       "       [-0.8485213 ],\n",
       "       [-0.8485031 ],\n",
       "       [-0.84848493],\n",
       "       [-0.8484667 ],\n",
       "       [-0.8484485 ],\n",
       "       [-0.84843034],\n",
       "       [-0.84841216],\n",
       "       [-0.8483939 ],\n",
       "       [-0.84837574],\n",
       "       [-0.84835756],\n",
       "       [-0.8483393 ],\n",
       "       [-0.84832114],\n",
       "       [-0.84830296],\n",
       "       [-0.8482848 ],\n",
       "       [-0.84826654],\n",
       "       [-0.84824836],\n",
       "       [-0.8482302 ],\n",
       "       [-0.84821194],\n",
       "       [-0.84819376],\n",
       "       [-0.8481756 ],\n",
       "       [-0.84815735],\n",
       "       [-0.84813917],\n",
       "       [-0.848121  ],\n",
       "       [-0.8481028 ],\n",
       "       [-0.84808457],\n",
       "       [-0.8480664 ],\n",
       "       [-0.8480482 ],\n",
       "       [-0.84803   ],\n",
       "       [-0.8480118 ],\n",
       "       [-0.8479936 ],\n",
       "       [-0.8479754 ],\n",
       "       [-0.8479572 ],\n",
       "       [-0.847939  ],\n",
       "       [-0.8479208 ],\n",
       "       [-0.84790266],\n",
       "       [-0.8478844 ],\n",
       "       [-0.8478662 ],\n",
       "       [-0.847848  ],\n",
       "       [-0.8478298 ],\n",
       "       [-0.8478116 ],\n",
       "       [-0.8477934 ],\n",
       "       [-0.8477752 ],\n",
       "       [-0.847757  ],\n",
       "       [-0.8477388 ],\n",
       "       [-0.84772056],\n",
       "       [-0.8477024 ],\n",
       "       [-0.84768414],\n",
       "       [-0.8476659 ],\n",
       "       [-0.84764767],\n",
       "       [-0.8476294 ],\n",
       "       [-0.8476112 ],\n",
       "       [-0.847593  ],\n",
       "       [-0.8475747 ],\n",
       "       [-0.8475565 ],\n",
       "       [-0.84753823],\n",
       "       [-0.84751993],\n",
       "       [-0.84750164],\n",
       "       [-0.84748334],\n",
       "       [-0.84746504],\n",
       "       [-0.8474467 ],\n",
       "       [-0.8474284 ],\n",
       "       [-0.84741   ],\n",
       "       [-0.84739166],\n",
       "       [-0.84737325],\n",
       "       [-0.84735477],\n",
       "       [-0.84733635],\n",
       "       [-0.8473179 ],\n",
       "       [-0.84729934],\n",
       "       [-0.8472808 ],\n",
       "       [-0.84726214],\n",
       "       [-0.84724355],\n",
       "       [-0.8472249 ],\n",
       "       [-0.8472062 ],\n",
       "       [-0.8471874 ],\n",
       "       [-0.84716856],\n",
       "       [-0.8471496 ],\n",
       "       [-0.84713066],\n",
       "       [-0.84711164],\n",
       "       [-0.84709245],\n",
       "       [-0.84707326],\n",
       "       [-0.84705395],\n",
       "       [-0.8470345 ],\n",
       "       [-0.847015  ],\n",
       "       [-0.84699535],\n",
       "       [-0.8469756 ],\n",
       "       [-0.8469557 ],\n",
       "       [-0.84693575],\n",
       "       [-0.84691554],\n",
       "       [-0.8468952 ],\n",
       "       [-0.84687465],\n",
       "       [-0.846854  ],\n",
       "       [-0.8468331 ],\n",
       "       [-0.84681195],\n",
       "       [-0.8467907 ],\n",
       "       [-0.84676903],\n",
       "       [-0.8467473 ],\n",
       "       [-0.8467252 ],\n",
       "       [-0.8467029 ],\n",
       "       [-0.8466802 ],\n",
       "       [-0.8466573 ],\n",
       "       [-0.84663403],\n",
       "       [-0.8466104 ],\n",
       "       [-0.8465864 ],\n",
       "       [-0.846562  ],\n",
       "       [-0.84653723],\n",
       "       [-0.8465121 ],\n",
       "       [-0.8464864 ],\n",
       "       [-0.8464603 ],\n",
       "       [-0.84643364],\n",
       "       [-0.8464066 ],\n",
       "       [-0.8463789 ],\n",
       "       [-0.84635067],\n",
       "       [-0.8463218 ],\n",
       "       [-0.8462923 ],\n",
       "       [-0.8462622 ],\n",
       "       [-0.8462314 ],\n",
       "       [-0.8461999 ],\n",
       "       [-0.8461677 ],\n",
       "       [-0.84613466],\n",
       "       [-0.8461008 ],\n",
       "       [-0.8460661 ],\n",
       "       [-0.8460306 ],\n",
       "       [-0.8459941 ],\n",
       "       [-0.8459567 ],\n",
       "       [-0.84591824],\n",
       "       [-0.84587884],\n",
       "       [-0.84583837],\n",
       "       [-0.84579676],\n",
       "       [-0.845754  ],\n",
       "       [-0.84571004],\n",
       "       [-0.84566486],\n",
       "       [-0.84561837],\n",
       "       [-0.8455705 ],\n",
       "       [-0.84552133],\n",
       "       [-0.8454707 ],\n",
       "       [-0.8454186 ],\n",
       "       [-0.845365  ],\n",
       "       [-0.8453098 ],\n",
       "       [-0.84525293],\n",
       "       [-0.8451944 ],\n",
       "       [-0.8451342 ],\n",
       "       [-0.8450721 ],\n",
       "       [-0.84500825],\n",
       "       [-0.8449424 ],\n",
       "       [-0.8448746 ],\n",
       "       [-0.8448048 ],\n",
       "       [-0.8447329 ],\n",
       "       [-0.84465885],\n",
       "       [-0.84458256],\n",
       "       [-0.84450406],\n",
       "       [-0.8444231 ],\n",
       "       [-0.8443398 ],\n",
       "       [-0.844254  ],\n",
       "       [-0.8441657 ],\n",
       "       [-0.8440747 ],\n",
       "       [-0.8439811 ],\n",
       "       [-0.8438847 ],\n",
       "       [-0.8437854 ],\n",
       "       [-0.8436833 ],\n",
       "       [-0.84357816],\n",
       "       [-0.84347   ],\n",
       "       [-0.84335864],\n",
       "       [-0.84324414],\n",
       "       [-0.84312636],\n",
       "       [-0.8430052 ],\n",
       "       [-0.84288055],\n",
       "       [-0.8427524 ],\n",
       "       [-0.8426206 ],\n",
       "       [-0.8424852 ],\n",
       "       [-0.84234595],\n",
       "       [-0.8422029 ],\n",
       "       [-0.8420558 ],\n",
       "       [-0.84190476],\n",
       "       [-0.84174955],\n",
       "       [-0.84159017],\n",
       "       [-0.8414265 ],\n",
       "       [-0.8412584 ],\n",
       "       [-0.8410859 ],\n",
       "       [-0.8409088 ],\n",
       "       [-0.84072703],\n",
       "       [-0.8405405 ],\n",
       "       [-0.84034914],\n",
       "       [-0.84015286],\n",
       "       [-0.8399516 ],\n",
       "       [-0.83974516],\n",
       "       [-0.83953345],\n",
       "       [-0.8393165 ],\n",
       "       [-0.83909416],\n",
       "       [-0.83886623],\n",
       "       [-0.83863276],\n",
       "       [-0.83839357],\n",
       "       [-0.83814865],\n",
       "       [-0.8378977 ],\n",
       "       [-0.8376408 ],\n",
       "       [-0.8373778 ],\n",
       "       [-0.8371086 ],\n",
       "       [-0.8368331 ],\n",
       "       [-0.8365512 ],\n",
       "       [-0.8362628 ],\n",
       "       [-0.83596784],\n",
       "       [-0.8356661 ],\n",
       "       [-0.83535767],\n",
       "       [-0.8350422 ],\n",
       "       [-0.83471966],\n",
       "       [-0.8343901 ],\n",
       "       [-0.83405334],\n",
       "       [-0.8337092 ],\n",
       "       [-0.8333577 ],\n",
       "       [-0.8329985 ],\n",
       "       [-0.8326318 ],\n",
       "       [-0.8322573 ],\n",
       "       [-0.83187497],\n",
       "       [-0.8314847 ],\n",
       "       [-0.8310863 ],\n",
       "       [-0.8306798 ],\n",
       "       [-0.830265  ],\n",
       "       [-0.8298418 ],\n",
       "       [-0.8294102 ],\n",
       "       [-0.8289699 ],\n",
       "       [-0.82852095],\n",
       "       [-0.82806325],\n",
       "       [-0.8275966 ],\n",
       "       [-0.8271209 ],\n",
       "       [-0.82663614],\n",
       "       [-0.8261422 ],\n",
       "       [-0.82563883],\n",
       "       [-0.82512605],\n",
       "       [-0.8246038 ],\n",
       "       [-0.8240719 ],\n",
       "       [-0.8235302 ],\n",
       "       [-0.8229787 ],\n",
       "       [-0.82241726],\n",
       "       [-0.82184565],\n",
       "       [-0.821264  ],\n",
       "       [-0.82067204],\n",
       "       [-0.8200698 ],\n",
       "       [-0.819457  ],\n",
       "       [-0.8188336 ],\n",
       "       [-0.8181996 ],\n",
       "       [-0.8175548 ],\n",
       "       [-0.8168991 ],\n",
       "       [-0.81623244],\n",
       "       [-0.8155548 ],\n",
       "       [-0.81486595],\n",
       "       [-0.8141658 ],\n",
       "       [-0.8134542 ],\n",
       "       [-0.8127312 ],\n",
       "       [-0.8119967 ],\n",
       "       [-0.8112505 ],\n",
       "       [-0.8104925 ],\n",
       "       [-0.8097227 ],\n",
       "       [-0.808941  ],\n",
       "       [-0.8081472 ],\n",
       "       [-0.8073413 ],\n",
       "       [-0.8065232 ],\n",
       "       [-0.8056928 ],\n",
       "       [-0.80485   ],\n",
       "       [-0.80399466],\n",
       "       [-0.8031268 ],\n",
       "       [-0.80224633],\n",
       "       [-0.8013531 ],\n",
       "       [-0.80044705],\n",
       "       [-0.7995281 ],\n",
       "       [-0.79859626],\n",
       "       [-0.7976513 ],\n",
       "       [-0.7966932 ],\n",
       "       [-0.7957219 ],\n",
       "       [-0.79473734],\n",
       "       [-0.79373956],\n",
       "       [-0.79272825],\n",
       "       [-0.79170346],\n",
       "       [-0.79066527],\n",
       "       [-0.7896134 ],\n",
       "       [-0.78854793],\n",
       "       [-0.7874687 ],\n",
       "       [-0.7863758 ],\n",
       "       [-0.7852691 ],\n",
       "       [-0.7841485 ],\n",
       "       [-0.78301406],\n",
       "       [-0.7818657 ],\n",
       "       [-0.7807034 ],\n",
       "       [-0.7795271 ],\n",
       "       [-0.7783368 ],\n",
       "       [-0.7771325 ],\n",
       "       [-0.7759142 ],\n",
       "       [-0.7746818 ],\n",
       "       [-0.77343535],\n",
       "       [-0.7721749 ],\n",
       "       [-0.77090037],\n",
       "       [-0.7696118 ],\n",
       "       [-0.76830924],\n",
       "       [-0.7669926 ],\n",
       "       [-0.7656621 ],\n",
       "       [-0.7643177 ],\n",
       "       [-0.76295936],\n",
       "       [-0.76158726],\n",
       "       [-0.7602014 ],\n",
       "       [-0.7588018 ],\n",
       "       [-0.75738865],\n",
       "       [-0.755962  ],\n",
       "       [-0.7545219 ],\n",
       "       [-0.75306857],\n",
       "       [-0.75160193],\n",
       "       [-0.7501224 ],\n",
       "       [-0.7486299 ],\n",
       "       [-0.7471247 ],\n",
       "       [-0.74560684],\n",
       "       [-0.7440766 ],\n",
       "       [-0.7425342 ],\n",
       "       [-0.7409798 ],\n",
       "       [-0.7394136 ],\n",
       "       [-0.7378359 ],\n",
       "       [-0.7362469 ],\n",
       "       [-0.73464686],\n",
       "       [-0.73303616],\n",
       "       [-0.731415  ],\n",
       "       [-0.72978365],\n",
       "       [-0.7281426 ],\n",
       "       [-0.72649205],\n",
       "       [-0.72483253],\n",
       "       [-0.7231643 ],\n",
       "       [-0.72148776],\n",
       "       [-0.71980345],\n",
       "       [-0.7181117 ],\n",
       "       [-0.716413  ],\n",
       "       [-0.7147079 ],\n",
       "       [-0.7129968 ],\n",
       "       [-0.7112802 ],\n",
       "       [-0.70955884],\n",
       "       [-0.70783305],\n",
       "       [-0.7061035 ],\n",
       "       [-0.7043708 ],\n",
       "       [-0.7026355 ],\n",
       "       [-0.7008983 ],\n",
       "       [-0.6991598 ],\n",
       "       [-0.6974207 ],\n",
       "       [-0.6956816 ],\n",
       "       [-0.69394326],\n",
       "       [-0.6922064 ],\n",
       "       [-0.6904716 ],\n",
       "       [-0.6887397 ],\n",
       "       [-0.6870115 ],\n",
       "       [-0.6852876 ],\n",
       "       [-0.6835689 ],\n",
       "       [-0.68185604],\n",
       "       [-0.6801498 ],\n",
       "       [-0.678451  ],\n",
       "       [-0.6767603 ],\n",
       "       [-0.67507863],\n",
       "       [-0.67340666],\n",
       "       [-0.6717452 ],\n",
       "       [-0.6700949 ],\n",
       "       [-0.66845655],\n",
       "       [-0.6668309 ],\n",
       "       [-0.6652187 ],\n",
       "       [-0.6636206 ],\n",
       "       [-0.6620374 ],\n",
       "       [-0.6604696 ],\n",
       "       [-0.65891796],\n",
       "       [-0.65738314],\n",
       "       [-0.6558657 ],\n",
       "       [-0.6543663 ],\n",
       "       [-0.65288544],\n",
       "       [-0.6514237 ],\n",
       "       [-0.64998156],\n",
       "       [-0.6485596 ],\n",
       "       [-0.6471581 ],\n",
       "       [-0.6457776 ],\n",
       "       [-0.64441854],\n",
       "       [-0.6430812 ],\n",
       "       [-0.64176595],\n",
       "       [-0.6404731 ],\n",
       "       [-0.63920295],\n",
       "       [-0.6379557 ],\n",
       "       [-0.63673156],\n",
       "       [-0.6355308 ],\n",
       "       [-0.6343535 ],\n",
       "       [-0.6331998 ],\n",
       "       [-0.63206977],\n",
       "       [-0.63096356],\n",
       "       [-0.62988114],\n",
       "       [-0.62882257],\n",
       "       [-0.6277878 ],\n",
       "       [-0.6267769 ],\n",
       "       [-0.6257897 ],\n",
       "       [-0.6248262 ],\n",
       "       [-0.6238863 ],\n",
       "       [-0.62296987],\n",
       "       [-0.6220768 ],\n",
       "       [-0.62120694],\n",
       "       [-0.62036014],\n",
       "       [-0.61953616],\n",
       "       [-0.6187349 ],\n",
       "       [-0.6179561 ],\n",
       "       [-0.61719954],\n",
       "       [-0.6164651 ],\n",
       "       [-0.6157524 ],\n",
       "       [-0.6150612 ],\n",
       "       [-0.61439145],\n",
       "       [-0.61374265],\n",
       "       [-0.6131147 ],\n",
       "       [-0.6125073 ],\n",
       "       [-0.6119201 ],\n",
       "       [-0.611353  ],\n",
       "       [-0.6108055 ],\n",
       "       [-0.6102775 ],\n",
       "       [-0.6097686 ],\n",
       "       [-0.6092786 ],\n",
       "       [-0.60880715],\n",
       "       [-0.6083541 ],\n",
       "       [-0.607919  ],\n",
       "       [-0.6075016 ],\n",
       "       [-0.60710174],\n",
       "       [-0.606719  ],\n",
       "       [-0.6063532 ],\n",
       "       [-0.606004  ],\n",
       "       [-0.60567117],\n",
       "       [-0.6053544 ],\n",
       "       [-0.6050535 ],\n",
       "       [-0.6047681 ],\n",
       "       [-0.604498  ],\n",
       "       [-0.6042429 ],\n",
       "       [-0.6040026 ]], dtype=float32)"
      ]
     },
     "execution_count": 84,
     "metadata": {},
     "output_type": "execute_result"
    }
   ],
   "source": [
    "# forecast the  entire training daatset to build up state for forecasting\n",
    "\n",
    "train_reshaped = train_scaled[:, 0].reshape(len(train_scaled), 1, 1)\n",
    "lstm_model.predict(train_reshaped, batch_size = 1)"
   ]
  },
  {
   "cell_type": "code",
   "execution_count": null,
   "metadata": {},
   "outputs": [],
   "source": [
    "#walk-forward validation on the test data\n",
    "predictions = list()\n",
    "for i in range(len(test_scaled)):\n",
    "    \n",
    "    # make one-step forecast"
   ]
  }
 ],
 "metadata": {
  "kernelspec": {
   "display_name": "Python 3",
   "language": "python",
   "name": "python3"
  }
 },
 "nbformat": 4,
 "nbformat_minor": 2
}
